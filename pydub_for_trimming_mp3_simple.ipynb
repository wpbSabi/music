{
 "cells": [
  {
   "cell_type": "code",
   "execution_count": 14,
   "metadata": {
    "ExecuteTime": {
     "end_time": "2023-01-21T20:46:09.449309Z",
     "start_time": "2023-01-21T20:46:08.356564Z"
    }
   },
   "outputs": [],
   "source": [
    "from pydub import AudioSegment\n",
    "\n",
    "# Import the mp3 file from its location\n",
    "song = AudioSegment.from_mp3('files/Song Number 42.mp3')"
   ]
  },
  {
   "cell_type": "code",
   "execution_count": 1,
   "metadata": {
    "ExecuteTime": {
     "end_time": "2023-03-04T00:51:01.537011Z",
     "start_time": "2023-03-04T00:51:01.534223Z"
    }
   },
   "outputs": [],
   "source": [
    "# In this case, I want to remove the first ~5 seconds of silence (i.e. 5000 milliseconds)\n",
    "song[10*1000:]"
   ]
  },
  {
   "cell_type": "code",
   "execution_count": 11,
   "metadata": {
    "ExecuteTime": {
     "end_time": "2023-01-15T19:24:51.058795Z",
     "start_time": "2023-01-15T19:24:50.973752Z"
    }
   },
   "outputs": [],
   "source": [
    "# That test worked well to narrow in on the first 5.5 seconds as what works well for me\n",
    "beginning_removed = song[10*1000:]"
   ]
  },
  {
   "cell_type": "code",
   "execution_count": 2,
   "metadata": {
    "ExecuteTime": {
     "end_time": "2023-03-04T00:52:04.194088Z",
     "start_time": "2023-03-04T00:52:04.189765Z"
    }
   },
   "outputs": [],
   "source": [
    "beginning_removed.export('files/Song Number 42 without beginning.mp3', format=\"mp3\")"
   ]
  }
 ],
 "metadata": {
  "kernelspec": {
   "display_name": "Python 3",
   "language": "python",
   "name": "python3"
  },
  "language_info": {
   "codemirror_mode": {
    "name": "ipython",
    "version": 3
   },
   "file_extension": ".py",
   "mimetype": "text/x-python",
   "name": "python",
   "nbconvert_exporter": "python",
   "pygments_lexer": "ipython3",
   "version": "3.8.3"
  }
 },
 "nbformat": 4,
 "nbformat_minor": 4
}
